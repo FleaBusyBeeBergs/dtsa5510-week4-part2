{
 "cells": [
  {
   "cell_type": "markdown",
   "id": "c4bf2b16-57f9-4aea-a235-49a1856adbae",
   "metadata": {},
   "source": [
    "# DTSA 5510, Week 4 assignment, part 2"
   ]
  }
 ],
 "metadata": {
  "kernelspec": {
   "display_name": "Python 3 (ipykernel)",
   "language": "python",
   "name": "python3"
  },
  "language_info": {
   "codemirror_mode": {
    "name": "ipython",
    "version": 3
   },
   "file_extension": ".py",
   "mimetype": "text/x-python",
   "name": "python",
   "nbconvert_exporter": "python",
   "pygments_lexer": "ipython3",
   "version": "3.12.3"
  }
 },
 "nbformat": 4,
 "nbformat_minor": 5
}
