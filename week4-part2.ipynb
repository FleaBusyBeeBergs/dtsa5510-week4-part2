{
 "cells": [
  {
   "cell_type": "markdown",
   "id": "c4bf2b16-57f9-4aea-a235-49a1856adbae",
   "metadata": {},
   "source": [
    "# DTSA 5510, Week 4 assignment, part 2"
   ]
  },
  {
   "cell_type": "code",
   "execution_count": 39,
   "id": "79404977-4e00-4b33-a520-7cfe5745ab3b",
   "metadata": {},
   "outputs": [],
   "source": [
    "from collections import namedtuple\n",
    "\n",
    "import pandas as pd\n",
    "import matplotlib.pyplot as plt\n",
    "import numpy as np\n",
    "import time\n",
    "from sklearn.model_selection import train_test_split\n",
    "from sklearn.decomposition import NMF\n",
    "from scipy.sparse import coo_matrix, csr_matrix\n",
    "from scipy.spatial.distance import jaccard, cosine "
   ]
  },
  {
   "cell_type": "code",
   "execution_count": 16,
   "id": "61f9b296-1926-4635-b550-8d82df04c7c9",
   "metadata": {},
   "outputs": [],
   "source": [
    "# i downloaded the data from the kaggle link on the week 3 assignment\n",
    "MV_movies = pd.read_csv('data/movies.dat', \n",
    "                         delimiter='::', \n",
    "                         names=['MovieID', 'Title', 'Genres'], \n",
    "                         engine='python',\n",
    "                         encoding='ISO-8859-1')\n",
    "\n",
    "ratings = pd.read_csv('data/ratings.dat', \n",
    "                      delimiter='::', \n",
    "                      names=['UserID', 'MovieID', 'Rating', 'Timestamp'], \n",
    "                      engine='python', \n",
    "                      encoding='ISO-8859-1')\n",
    "\n",
    "\n",
    "MV_users = pd.read_csv('data/users.dat', \n",
    "                       delimiter='::', \n",
    "                       names=['UserID', 'Gender', 'Age', 'Occupation', 'Zip-code'], \n",
    "                       engine='python', \n",
    "                       encoding='ISO-8859-1')"
   ]
  },
  {
   "cell_type": "code",
   "execution_count": 18,
   "id": "c29dd571-790b-4964-b090-4eb29188295d",
   "metadata": {},
   "outputs": [],
   "source": [
    "MV_movies.to_csv('data/movies.csv', index = False)\n",
    "MV_users.to_csv('data/users.csv', index = False)\n",
    "ratings.to_csv('data/ratings.csv', index = False)"
   ]
  },
  {
   "cell_type": "code",
   "execution_count": 25,
   "id": "af32a337-d8b7-4830-855e-cb8d8baba64f",
   "metadata": {},
   "outputs": [
    {
     "name": "stdout",
     "output_type": "stream",
     "text": [
      "<class 'pandas.core.frame.DataFrame'>\n",
      "RangeIndex: 3883 entries, 0 to 3882\n",
      "Data columns (total 3 columns):\n",
      " #   Column   Non-Null Count  Dtype \n",
      "---  ------   --------------  ----- \n",
      " 0   MovieID  3883 non-null   int64 \n",
      " 1   Title    3883 non-null   object\n",
      " 2   Genres   3883 non-null   object\n",
      "dtypes: int64(1), object(2)\n",
      "memory usage: 91.1+ KB\n",
      "None \n",
      "\n",
      "\n",
      "<class 'pandas.core.frame.DataFrame'>\n",
      "RangeIndex: 6040 entries, 0 to 6039\n",
      "Data columns (total 5 columns):\n",
      " #   Column      Non-Null Count  Dtype \n",
      "---  ------      --------------  ----- \n",
      " 0   UserID      6040 non-null   int64 \n",
      " 1   Gender      6040 non-null   object\n",
      " 2   Age         6040 non-null   int64 \n",
      " 3   Occupation  6040 non-null   int64 \n",
      " 4   Zip-code    6040 non-null   object\n",
      "dtypes: int64(3), object(2)\n",
      "memory usage: 236.1+ KB\n",
      "None \n",
      "\n",
      "\n",
      "<class 'pandas.core.frame.DataFrame'>\n",
      "RangeIndex: 1000209 entries, 0 to 1000208\n",
      "Data columns (total 4 columns):\n",
      " #   Column     Non-Null Count    Dtype\n",
      "---  ------     --------------    -----\n",
      " 0   UserID     1000209 non-null  int64\n",
      " 1   MovieID    1000209 non-null  int64\n",
      " 2   Rating     1000209 non-null  int64\n",
      " 3   Timestamp  1000209 non-null  int64\n",
      "dtypes: int64(4)\n",
      "memory usage: 30.5 MB\n",
      "None\n"
     ]
    }
   ],
   "source": [
    "print(MV_movies.info(), '\\n\\n')\n",
    "print(MV_users.info(), '\\n\\n')\n",
    "print(ratings.info())\n"
   ]
  },
  {
   "cell_type": "code",
   "execution_count": 74,
   "id": "eced601e-07d3-4082-9213-2fbd3cec049f",
   "metadata": {},
   "outputs": [],
   "source": [
    "MV_users = MV_users.dropna()\n",
    "MV_users.rename(columns = {'UserID': 'uID'}, inplace = True)\n",
    "\n",
    "MV_movies = MV_movies.dropna()\n",
    "MV_movies.rename(columns = {'MovieID': 'mID'}, inplace = True)\n",
    "\n",
    "ratings = (ratings.rename(columns = {\n",
    "    'UserID': 'uID',\n",
    "    'MovieID': 'mID',\n",
    "    'Rating': 'rating'\n",
    "})\n",
    "          .fillna(0))\n",
    "\n"
   ]
  },
  {
   "cell_type": "code",
   "execution_count": 75,
   "id": "5a9fe148-56fa-4314-82ac-83bd77a91306",
   "metadata": {},
   "outputs": [
    {
     "data": {
      "text/plain": [
       "Data(users=       uID Gender  Age  Occupation Zip-code\n",
       "0        1      F    1          10    48067\n",
       "1        2      M   56          16    70072\n",
       "2        3      M   25          15    55117\n",
       "3        4      M   45           7    02460\n",
       "4        5      M   25          20    55455\n",
       "...    ...    ...  ...         ...      ...\n",
       "6035  6036      F   25          15    32603\n",
       "6036  6037      F   45           1    76006\n",
       "6037  6038      F   56           1    14706\n",
       "6038  6039      F   45           0    01060\n",
       "6039  6040      M   25           6    11106\n",
       "\n",
       "[6040 rows x 5 columns], movies=       mID                               Title                        Genres\n",
       "0        1                    Toy Story (1995)   Animation|Children's|Comedy\n",
       "1        2                      Jumanji (1995)  Adventure|Children's|Fantasy\n",
       "2        3             Grumpier Old Men (1995)                Comedy|Romance\n",
       "3        4            Waiting to Exhale (1995)                  Comedy|Drama\n",
       "4        5  Father of the Bride Part II (1995)                        Comedy\n",
       "...    ...                                 ...                           ...\n",
       "3878  3948             Meet the Parents (2000)                        Comedy\n",
       "3879  3949          Requiem for a Dream (2000)                         Drama\n",
       "3880  3950                    Tigerland (2000)                         Drama\n",
       "3881  3951             Two Family House (2000)                         Drama\n",
       "3882  3952               Contender, The (2000)                Drama|Thriller\n",
       "\n",
       "[3883 rows x 3 columns])"
      ]
     },
     "execution_count": 75,
     "metadata": {},
     "output_type": "execute_result"
    }
   ],
   "source": [
    "Data = namedtuple('Data', ['users','movies'])\n",
    "data = Data(MV_users, MV_movies)\n",
    "data"
   ]
  },
  {
   "cell_type": "code",
   "execution_count": 76,
   "id": "c12dfd6c-8ee2-48f5-a2b3-fcc5b6f590e0",
   "metadata": {},
   "outputs": [],
   "source": [
    "MV_users_train, MV_users_test = (train_test_split(MV_users, \n",
    "                                                  test_size = 0.3, \n",
    "                                                  random_state = 5510))\n",
    "\n",
    "MV_movies_train, MV_movies_test = (train_test_split(MV_movies, \n",
    "                                                    test_size = 0.3, \n",
    "                                                    random_state = 5510))\n",
    "\n",
    "train = (pd.concat([MV_users_train.reset_index(drop = True), \n",
    "                    MV_movies_train.reset_index(drop = True)], \n",
    "                   axis=1))\n",
    "\n",
    "test = (pd.concat([MV_users_test.reset_index(drop = True), \n",
    "                   MV_movies_test.reset_index(drop = True)], \n",
    "                   axis=1))"
   ]
  },
  {
   "cell_type": "code",
   "execution_count": null,
   "id": "a1a95d91-be9e-465c-9475-748e649cd62a",
   "metadata": {},
   "outputs": [],
   "source": []
  },
  {
   "cell_type": "code",
   "execution_count": null,
   "id": "fc564761-c324-46fe-a54a-705897fba4ab",
   "metadata": {},
   "outputs": [],
   "source": []
  },
  {
   "cell_type": "code",
   "execution_count": null,
   "id": "af7c1c5c-1df8-48bb-aaef-7eb434557705",
   "metadata": {},
   "outputs": [],
   "source": []
  },
  {
   "cell_type": "code",
   "execution_count": null,
   "id": "6c3d8bb9-7f19-4660-b48b-4d36bfcb4c57",
   "metadata": {},
   "outputs": [],
   "source": []
  },
  {
   "cell_type": "code",
   "execution_count": 77,
   "id": "342dbe42-6d79-4b00-93f2-abd3a9873496",
   "metadata": {},
   "outputs": [],
   "source": [
    "Data = namedtuple('Data', ['users','movies','train','test'])\n",
    "data = Data(MV_users, MV_movies, train, test)"
   ]
  },
  {
   "cell_type": "code",
   "execution_count": 82,
   "id": "d74d6201-b44c-474c-800d-49f615aba5b1",
   "metadata": {},
   "outputs": [
    {
     "ename": "KeyError",
     "evalue": "nan",
     "output_type": "error",
     "traceback": [
      "\u001b[1;31m-----------------------------------------------\u001b[0m",
      "\u001b[1;31mKeyError\u001b[0m      Traceback (most recent call last)",
      "Cell \u001b[1;32mIn[82], line 29\u001b[0m\n\u001b[0;32m     26\u001b[0m predicted_ratings \u001b[38;5;241m=\u001b[39m np\u001b[38;5;241m.\u001b[39mdot(W, H)\n\u001b[0;32m     28\u001b[0m test_user_indices \u001b[38;5;241m=\u001b[39m [uid2idx[uid] \u001b[38;5;28;01mfor\u001b[39;00m uid \u001b[38;5;129;01min\u001b[39;00m data\u001b[38;5;241m.\u001b[39mtest\u001b[38;5;241m.\u001b[39muID]\n\u001b[1;32m---> 29\u001b[0m test_movie_indices \u001b[38;5;241m=\u001b[39m [\u001b[43mmid2idx\u001b[49m\u001b[43m[\u001b[49m\u001b[43mmid\u001b[49m\u001b[43m]\u001b[49m \u001b[38;5;28;01mfor\u001b[39;00m mid \u001b[38;5;129;01min\u001b[39;00m data\u001b[38;5;241m.\u001b[39mtest\u001b[38;5;241m.\u001b[39mmID]\n\u001b[0;32m     31\u001b[0m \u001b[38;5;66;03m# Get predicted ratings for the test set\u001b[39;00m\n\u001b[0;32m     32\u001b[0m predicted_test_ratings \u001b[38;5;241m=\u001b[39m predicted_ratings[test_user_indices, test_movie_indices]\n",
      "\u001b[1;31mKeyError\u001b[0m: nan"
     ]
    }
   ],
   "source": [
    "# Create the rating matrix\n",
    "from scipy.sparse import coo_matrix\n",
    "\n",
    "# Create a mapping of user IDs and movie IDs to indices\n",
    "mid2idx = dict(zip(MV_movies.mID, range(len(MV_movies))))\n",
    "uid2idx = dict(zip(MV_users.uID, range(len(MV_users))))\n",
    "\n",
    "# Create the rating matrix\n",
    "ind_movie = [mid2idx[mID] for mID in ratings.mID]\n",
    "ind_user = [uid2idx[uID] for uID in ratings.uID]\n",
    "rating_values = ratings.rating.values\n",
    "\n",
    "# Create a sparse matrix from the rating data\n",
    "rating_matrix = coo_matrix((rating_values, (ind_user, ind_movie)), shape=(len(MV_users), len(MV_movies))).toarray()\n",
    "\n",
    "\n",
    "from sklearn.decomposition import NMF\n",
    "\n",
    "# Initialize and fit the NMF model\n",
    "n_components = 18  # You can adjust this number based on your needs\n",
    "model = NMF(n_components=n_components, random_state=42, init='nndsvda', solver='mu', beta_loss='kullback-leibler', max_iter=500)\n",
    "W = model.fit_transform(rating_matrix)  # User features\n",
    "H = model.components_  # Movie features\n",
    "\n",
    "# Predict ratings\n",
    "predicted_ratings = np.dot(W, H)\n",
    "\n",
    "test_user_indices = [uid2idx[uid] for uid in data.test.uID]\n",
    "test_movie_indices = [mid2idx[mid] for mid in data.test.mID]\n",
    "\n",
    "# Get predicted ratings for the test set\n",
    "predicted_test_ratings = predicted_ratings[test_user_indices, test_movie_indices]\n",
    "\n",
    "# Get actual test ratings\n",
    "actual_test_ratings = data.test.rating.values\n",
    "\n",
    "# Calculate RMSE\n",
    "rmse = np.sqrt(mean_squared_error(actual_test_ratings, predicted_test_ratings))\n",
    "\n",
    "# Output the RMSE\n",
    "print(f'RMSE for the NMF predictions: {rmse}')\n"
   ]
  },
  {
   "cell_type": "code",
   "execution_count": null,
   "id": "a9cf3966-d060-4feb-9330-907aff5227af",
   "metadata": {},
   "outputs": [],
   "source": []
  },
  {
   "cell_type": "code",
   "execution_count": 80,
   "id": "253d0a10-4a9a-4525-9877-ee4e567bdb90",
   "metadata": {},
   "outputs": [
    {
     "ename": "KeyError",
     "evalue": "nan",
     "output_type": "error",
     "traceback": [
      "\u001b[1;31m-----------------------------------------------\u001b[0m",
      "\u001b[1;31mKeyError\u001b[0m      Traceback (most recent call last)",
      "Cell \u001b[1;32mIn[80], line 36\u001b[0m\n\u001b[0;32m     33\u001b[0m         \u001b[38;5;28;01mreturn\u001b[39;00m np\u001b[38;5;241m.\u001b[39msqrt(((labs \u001b[38;5;241m-\u001b[39m yhat) \u001b[38;5;241m*\u001b[39m\u001b[38;5;241m*\u001b[39m \u001b[38;5;241m2\u001b[39m)\u001b[38;5;241m.\u001b[39mmean())\n\u001b[0;32m     35\u001b[0m \u001b[38;5;66;03m# Perform NMF on ratings matrix\u001b[39;00m\n\u001b[1;32m---> 36\u001b[0m rs \u001b[38;5;241m=\u001b[39m \u001b[43mRecSys\u001b[49m\u001b[43m(\u001b[49m\u001b[43mdata\u001b[49m\u001b[43m)\u001b[49m\n\u001b[0;32m     37\u001b[0m rating_matrix \u001b[38;5;241m=\u001b[39m rs\u001b[38;5;241m.\u001b[39mMr\n\u001b[0;32m     38\u001b[0m model \u001b[38;5;241m=\u001b[39m (NMF(n_components\u001b[38;5;241m=\u001b[39m\u001b[38;5;241m18\u001b[39m, random_state\u001b[38;5;241m=\u001b[39m\u001b[38;5;241m42\u001b[39m, init\u001b[38;5;241m=\u001b[39m\u001b[38;5;124m\"\u001b[39m\u001b[38;5;124mnndsvda\u001b[39m\u001b[38;5;124m\"\u001b[39m, \n\u001b[0;32m     39\u001b[0m               solver\u001b[38;5;241m=\u001b[39m\u001b[38;5;124m\"\u001b[39m\u001b[38;5;124mmu\u001b[39m\u001b[38;5;124m\"\u001b[39m, beta_loss\u001b[38;5;241m=\u001b[39m\u001b[38;5;124m\"\u001b[39m\u001b[38;5;124mkullback-leibler\u001b[39m\u001b[38;5;124m\"\u001b[39m, max_iter\u001b[38;5;241m=\u001b[39m\u001b[38;5;241m1000\u001b[39m)\n\u001b[0;32m     40\u001b[0m          \u001b[38;5;241m.\u001b[39mfit(ratings_matrix))\n",
      "Cell \u001b[1;32mIn[80], line 9\u001b[0m, in \u001b[0;36mRecSys.__init__\u001b[1;34m(self, data)\u001b[0m\n\u001b[0;32m      7\u001b[0m \u001b[38;5;28mself\u001b[39m\u001b[38;5;241m.\u001b[39mmid2idx \u001b[38;5;241m=\u001b[39m \u001b[38;5;28mdict\u001b[39m(\u001b[38;5;28mzip\u001b[39m(\u001b[38;5;28mself\u001b[39m\u001b[38;5;241m.\u001b[39mdata\u001b[38;5;241m.\u001b[39mmovies\u001b[38;5;241m.\u001b[39mmID, \u001b[38;5;28mrange\u001b[39m(\u001b[38;5;28mlen\u001b[39m(\u001b[38;5;28mself\u001b[39m\u001b[38;5;241m.\u001b[39mdata\u001b[38;5;241m.\u001b[39mmovies))))\n\u001b[0;32m      8\u001b[0m \u001b[38;5;28mself\u001b[39m\u001b[38;5;241m.\u001b[39muid2idx \u001b[38;5;241m=\u001b[39m \u001b[38;5;28mdict\u001b[39m(\u001b[38;5;28mzip\u001b[39m(\u001b[38;5;28mself\u001b[39m\u001b[38;5;241m.\u001b[39mdata\u001b[38;5;241m.\u001b[39musers\u001b[38;5;241m.\u001b[39muID, \u001b[38;5;28mrange\u001b[39m(\u001b[38;5;28mlen\u001b[39m(\u001b[38;5;28mself\u001b[39m\u001b[38;5;241m.\u001b[39mdata\u001b[38;5;241m.\u001b[39musers))))\n\u001b[1;32m----> 9\u001b[0m \u001b[38;5;28mself\u001b[39m\u001b[38;5;241m.\u001b[39mMr \u001b[38;5;241m=\u001b[39m \u001b[38;5;28;43mself\u001b[39;49m\u001b[38;5;241;43m.\u001b[39;49m\u001b[43mrating_matrix\u001b[49m\u001b[43m(\u001b[49m\u001b[43m)\u001b[49m\n",
      "Cell \u001b[1;32mIn[80], line 12\u001b[0m, in \u001b[0;36mRecSys.rating_matrix\u001b[1;34m(self)\u001b[0m\n\u001b[0;32m     11\u001b[0m \u001b[38;5;28;01mdef\u001b[39;00m \u001b[38;5;21mrating_matrix\u001b[39m(\u001b[38;5;28mself\u001b[39m):\n\u001b[1;32m---> 12\u001b[0m     ind_movie \u001b[38;5;241m=\u001b[39m [\u001b[38;5;28;43mself\u001b[39;49m\u001b[38;5;241;43m.\u001b[39;49m\u001b[43mmid2idx\u001b[49m\u001b[43m[\u001b[49m\u001b[43mx\u001b[49m\u001b[43m]\u001b[49m \u001b[38;5;28;01mfor\u001b[39;00m x \u001b[38;5;129;01min\u001b[39;00m \u001b[38;5;28mself\u001b[39m\u001b[38;5;241m.\u001b[39mdata\u001b[38;5;241m.\u001b[39mtrain\u001b[38;5;241m.\u001b[39mmID]\n\u001b[0;32m     13\u001b[0m     ind_user \u001b[38;5;241m=\u001b[39m [\u001b[38;5;28mself\u001b[39m\u001b[38;5;241m.\u001b[39muid2idx[x] \u001b[38;5;28;01mfor\u001b[39;00m x \u001b[38;5;129;01min\u001b[39;00m \u001b[38;5;28mself\u001b[39m\u001b[38;5;241m.\u001b[39mdata\u001b[38;5;241m.\u001b[39mtrain\u001b[38;5;241m.\u001b[39muID]\n\u001b[0;32m     14\u001b[0m     rating_train \u001b[38;5;241m=\u001b[39m \u001b[38;5;28mlist\u001b[39m(\u001b[38;5;28mself\u001b[39m\u001b[38;5;241m.\u001b[39mdata\u001b[38;5;241m.\u001b[39mtrain\u001b[38;5;241m.\u001b[39mrating)\n",
      "\u001b[1;31mKeyError\u001b[0m: nan"
     ]
    }
   ],
   "source": [
    "# copied from week 3 homework\n",
    "class RecSys():\n",
    "    def __init__(self, data):\n",
    "        self.data = data\n",
    "        self.allusers = list(self.data.users['uID'])\n",
    "        self.allmovies = list(self.data.movies['mID'])\n",
    "        self.mid2idx = dict(zip(self.data.movies.mID, range(len(self.data.movies))))\n",
    "        self.uid2idx = dict(zip(self.data.users.uID, range(len(self.data.users))))\n",
    "        self.Mr = self.rating_matrix()\n",
    "\n",
    "    def rating_matrix(self):\n",
    "        ind_movie = [self.mid2idx[x] for x in self.data.train.mID]\n",
    "        ind_user = [self.uid2idx[x] for x in self.data.train.uID]\n",
    "        rating_train = list(self.data.train.rating)\n",
    "        return np.array(coo_matrix((rating_train, (ind_user, ind_movie)), \n",
    "                                    shape=(len(self.allusers), len(self.allmovies))).toarray())\n",
    "\n",
    "    def predict_from_nmf(self, X):\n",
    "        \"\"\"\n",
    "        Predict ratings using the reconstructed user data from NMF.\n",
    "        \"\"\"\n",
    "        yhat = []\n",
    "        for i in range(len(self.data.test)):\n",
    "            x = self.data.test.iloc[i]\n",
    "            mid = x.mID\n",
    "            uid = x.uID\n",
    "            yhat.append(X[self.uid2idx[uid], self.mid2idx[mid]])\n",
    "        return np.array(yhat)\n",
    "\n",
    "    def rmse(self, yhat):\n",
    "        yhat[np.isnan(yhat)] = 3  # Filling NaNs\n",
    "        labs = np.array(self.data.test.rating)\n",
    "        return np.sqrt(((labs - yhat) ** 2).mean())\n",
    "\n",
    "# Perform NMF on ratings matrix\n",
    "rs = RecSys(data)\n",
    "rating_matrix = rs.Mr\n",
    "model = (NMF(n_components=18, random_state=42, init=\"nndsvda\", \n",
    "              solver=\"mu\", beta_loss=\"kullback-leibler\", max_iter=1000)\n",
    "         .fit(ratings_matrix))\n",
    "W = model.transform(rating_matrix)\n",
    "H = model.components_\n",
    "\n",
    "# Reconstruct user data as predictions from NMF\n",
    "X = model.inverse_transform(W)\n",
    "\n",
    "# Get predictions for the test data\n",
    "yhat = rs.predict_from_nmf(X)\n",
    "\n",
    "# Calculate RMSE\n",
    "RMSE = rs.rmse(yhat)\n",
    "print(\"The RMSE of the predictions made using NMF was:\", RMSE)\n"
   ]
  },
  {
   "cell_type": "code",
   "execution_count": 57,
   "id": "13c2a73c-62a9-498f-89e1-26efa2f0f0f3",
   "metadata": {},
   "outputs": [
    {
     "ename": "KeyError",
     "evalue": "nan",
     "output_type": "error",
     "traceback": [
      "\u001b[1;31m-----------------------------------------------\u001b[0m",
      "\u001b[1;31mKeyError\u001b[0m      Traceback (most recent call last)",
      "Cell \u001b[1;32mIn[57], line 2\u001b[0m\n\u001b[0;32m      1\u001b[0m \u001b[38;5;66;03m# Initialize the recommender system\u001b[39;00m\n\u001b[1;32m----> 2\u001b[0m rs \u001b[38;5;241m=\u001b[39m \u001b[43mRecSys\u001b[49m\u001b[43m(\u001b[49m\u001b[43mdata\u001b[49m\u001b[43m)\u001b[49m\n\u001b[0;32m      4\u001b[0m \u001b[38;5;66;03m# Extract the rating matrix\u001b[39;00m\n\u001b[0;32m      5\u001b[0m ratings_matrix \u001b[38;5;241m=\u001b[39m rs\u001b[38;5;241m.\u001b[39mMr\n",
      "Cell \u001b[1;32mIn[54], line 10\u001b[0m, in \u001b[0;36mRecSys.__init__\u001b[1;34m(self, data)\u001b[0m\n\u001b[0;32m      8\u001b[0m \u001b[38;5;28mself\u001b[39m\u001b[38;5;241m.\u001b[39mmid2idx \u001b[38;5;241m=\u001b[39m \u001b[38;5;28mdict\u001b[39m(\u001b[38;5;28mzip\u001b[39m(\u001b[38;5;28mself\u001b[39m\u001b[38;5;241m.\u001b[39mdata\u001b[38;5;241m.\u001b[39mmovies\u001b[38;5;241m.\u001b[39mmID,\u001b[38;5;28mlist\u001b[39m(\u001b[38;5;28mrange\u001b[39m(\u001b[38;5;28mlen\u001b[39m(\u001b[38;5;28mself\u001b[39m\u001b[38;5;241m.\u001b[39mdata\u001b[38;5;241m.\u001b[39mmovies)))))\n\u001b[0;32m      9\u001b[0m \u001b[38;5;28mself\u001b[39m\u001b[38;5;241m.\u001b[39muid2idx \u001b[38;5;241m=\u001b[39m \u001b[38;5;28mdict\u001b[39m(\u001b[38;5;28mzip\u001b[39m(\u001b[38;5;28mself\u001b[39m\u001b[38;5;241m.\u001b[39mdata\u001b[38;5;241m.\u001b[39musers\u001b[38;5;241m.\u001b[39muID,\u001b[38;5;28mlist\u001b[39m(\u001b[38;5;28mrange\u001b[39m(\u001b[38;5;28mlen\u001b[39m(\u001b[38;5;28mself\u001b[39m\u001b[38;5;241m.\u001b[39mdata\u001b[38;5;241m.\u001b[39musers)))))\n\u001b[1;32m---> 10\u001b[0m \u001b[38;5;28mself\u001b[39m\u001b[38;5;241m.\u001b[39mMr\u001b[38;5;241m=\u001b[39m\u001b[38;5;28;43mself\u001b[39;49m\u001b[38;5;241;43m.\u001b[39;49m\u001b[43mrating_matrix\u001b[49m\u001b[43m(\u001b[49m\u001b[43m)\u001b[49m\n\u001b[0;32m     11\u001b[0m \u001b[38;5;28mself\u001b[39m\u001b[38;5;241m.\u001b[39mMm\u001b[38;5;241m=\u001b[39m\u001b[38;5;28;01mNone\u001b[39;00m \n\u001b[0;32m     12\u001b[0m \u001b[38;5;28mself\u001b[39m\u001b[38;5;241m.\u001b[39msim\u001b[38;5;241m=\u001b[39mnp\u001b[38;5;241m.\u001b[39mzeros((\u001b[38;5;28mlen\u001b[39m(\u001b[38;5;28mself\u001b[39m\u001b[38;5;241m.\u001b[39mallmovies),\u001b[38;5;28mlen\u001b[39m(\u001b[38;5;28mself\u001b[39m\u001b[38;5;241m.\u001b[39mallmovies)))\n",
      "Cell \u001b[1;32mIn[54], line 18\u001b[0m, in \u001b[0;36mRecSys.rating_matrix\u001b[1;34m(self)\u001b[0m\n\u001b[0;32m     14\u001b[0m \u001b[38;5;28;01mdef\u001b[39;00m \u001b[38;5;21mrating_matrix\u001b[39m(\u001b[38;5;28mself\u001b[39m):\n\u001b[0;32m     15\u001b[0m \u001b[38;5;250m    \u001b[39m\u001b[38;5;124;03m\"\"\"\u001b[39;00m\n\u001b[0;32m     16\u001b[0m \u001b[38;5;124;03m    Convert the rating matrix to numpy array of shape (#allusers,#allmovies)\u001b[39;00m\n\u001b[0;32m     17\u001b[0m \u001b[38;5;124;03m    \"\"\"\u001b[39;00m\n\u001b[1;32m---> 18\u001b[0m     ind_movie \u001b[38;5;241m=\u001b[39m [\u001b[38;5;28;43mself\u001b[39;49m\u001b[38;5;241;43m.\u001b[39;49m\u001b[43mmid2idx\u001b[49m\u001b[43m[\u001b[49m\u001b[43mx\u001b[49m\u001b[43m]\u001b[49m \u001b[38;5;28;01mfor\u001b[39;00m x \u001b[38;5;129;01min\u001b[39;00m \u001b[38;5;28mself\u001b[39m\u001b[38;5;241m.\u001b[39mdata\u001b[38;5;241m.\u001b[39mtrain\u001b[38;5;241m.\u001b[39mmID] \n\u001b[0;32m     19\u001b[0m     ind_user \u001b[38;5;241m=\u001b[39m [\u001b[38;5;28mself\u001b[39m\u001b[38;5;241m.\u001b[39muid2idx[x] \u001b[38;5;28;01mfor\u001b[39;00m x \u001b[38;5;129;01min\u001b[39;00m \u001b[38;5;28mself\u001b[39m\u001b[38;5;241m.\u001b[39mdata\u001b[38;5;241m.\u001b[39mtrain\u001b[38;5;241m.\u001b[39muID]\n\u001b[0;32m     20\u001b[0m     rating_train \u001b[38;5;241m=\u001b[39m \u001b[38;5;28mlist\u001b[39m(train\u001b[38;5;241m.\u001b[39mrating)\n",
      "\u001b[1;31mKeyError\u001b[0m: nan"
     ]
    }
   ],
   "source": [
    "# Initialize the recommender system\n",
    "rs = RecSys(data)\n",
    "\n",
    "# Extract the rating matrix\n",
    "ratings_matrix = rs.Mr\n",
    "\n",
    "# Fit the NMF model\n",
    "model = (NMF(n_components=18, \n",
    "              random_state=5510, \n",
    "              init='nndsvda', \n",
    "              solver='mu', \n",
    "              beta_loss='kullback-leibler', \n",
    "              max_iter=500)\n",
    "         .fit(ratings_matrix))\n",
    "\n",
    "# Transform the ratings matrix to get W and H\n",
    "W = model.transform(ratings_matrix)\n",
    "H = model.components_\n",
    "\n",
    "# Predict ratings for all users and movies\n",
    "predicted_ratings = np.dot(W, H)\n",
    "\n",
    "# Create a DataFrame for predicted ratings\n",
    "predicted_df = pd.DataFrame(predicted_ratings, columns=data.movies.mID, index=data.users.uID)\n",
    "\n",
    "# Melt the DataFrame to get it in long format\n",
    "predicted_long = predicted_df.reset_index().melt(id_vars='uID', value_name='predicted_rating', var_name='mID')\n",
    "\n",
    "# Merge with the original training data to fill in the missing ratings\n",
    "merged_df = data.train.merge(predicted_long, on=['uID', 'mID'], how='left', suffixes=('', '_pred'))\n",
    "\n",
    "# Fill missing ratings with predicted ratings\n",
    "merged_df['rating_filled'] = merged_df['rating'].fillna(merged_df['predicted_rating'])\n",
    "\n",
    "# Now, to evaluate the predictions on the test set\n",
    "# Get indices for the test set\n",
    "test_user_indices = [rs.uid2idx[uid] for uid in data.test.uID]\n",
    "test_movie_indices = [rs.mid2idx[mid] for mid in data.test.mID]\n",
    "\n",
    "# Extract predicted ratings for the test set\n",
    "predicted_test_ratings = predicted_ratings[test_user_indices, test_movie_indices]\n",
    "\n",
    "# Actual test set ratings\n",
    "actual_test_ratings = data.test.rating.values\n",
    "\n",
    "# Calculate RMSE\n",
    "rmse = np.sqrt(mean_squared_error(actual_test_ratings, predicted_test_ratings))\n",
    "print(f'RMSE for the NMF predictions: {rmse}')"
   ]
  }
 ],
 "metadata": {
  "kernelspec": {
   "display_name": "Python 3 (ipykernel)",
   "language": "python",
   "name": "python3"
  },
  "language_info": {
   "codemirror_mode": {
    "name": "ipython",
    "version": 3
   },
   "file_extension": ".py",
   "mimetype": "text/x-python",
   "name": "python",
   "nbconvert_exporter": "python",
   "pygments_lexer": "ipython3",
   "version": "3.12.3"
  }
 },
 "nbformat": 4,
 "nbformat_minor": 5
}
